{
  "nbformat": 4,
  "nbformat_minor": 0,
  "metadata": {
    "colab": {
      "name": "DecisionTree.ipynb",
      "provenance": [],
      "mount_file_id": "1fTrQCR66TJID9XV8Xd6k85ZO6npgDHUr",
      "authorship_tag": "ABX9TyM+xJLmWbavrQ+VZunexL4V",
      "include_colab_link": true
    },
    "kernelspec": {
      "name": "python3",
      "display_name": "Python 3"
    },
    "language_info": {
      "name": "python"
    }
  },
  "cells": [
    {
      "cell_type": "markdown",
      "metadata": {
        "id": "view-in-github",
        "colab_type": "text"
      },
      "source": [
        "<a href=\"https://colab.research.google.com/github/holoS15/CSI_6_ARI_2122_CW2_3605631/blob/main/DecisionTree.ipynb\" target=\"_parent\"><img src=\"https://colab.research.google.com/assets/colab-badge.svg\" alt=\"Open In Colab\"/></a>"
      ]
    },
    {
      "cell_type": "code",
      "execution_count": 1,
      "metadata": {
        "id": "nb6WTR--f-8c"
      },
      "outputs": [],
      "source": [
        "#import all libraries\n",
        "\n",
        "import numpy as np\n",
        "import pandas as pd\n",
        "\n",
        "import matplotlib.pyplot as plt\n",
        "import seaborn as sns\n",
        "%matplotlib inline\n",
        "\n",
        "from sklearn import decomposition\n",
        "from sklearn import tree\n",
        "from sklearn.pipeline import Pipeline\n",
        "import pydotplus\n",
        "from sklearn.tree import DecisionTreeClassifier\n",
        "import matplotlib.pyplot as plt\n",
        "import matplotlib.image as pltimg\n",
        "from sklearn.metrics import classification_report\n",
        "from sklearn.metrics import confusion_matrix\n",
        "from sklearn.model_selection import train_test_split\n",
        "from sklearn.model_selection import GridSearchCV\n",
        "from sklearn.preprocessing import StandardScaler\n",
        "from sklearn import metrics"
      ]
    },
    {
      "cell_type": "code",
      "source": [
        "df = pd.read_csv('/content/drive/MyDrive/CSI_6_ARI_CW_2_04.csv')"
      ],
      "metadata": {
        "id": "heSKVdulgNID"
      },
      "execution_count": 2,
      "outputs": []
    },
    {
      "cell_type": "code",
      "source": [
        "X = df.drop(['satisfaction','Gender','CustomerType','Age','TypeOfTravel','Class','FlightDistance',\n",
        "             'DepartureArrivalTimeConvenient','GateLocation',\n",
        "             'OnlineBoarding','OnboardService','LegRoomService','CheckinService'], axis='columns')\n",
        "y = df['satisfaction']"
      ],
      "metadata": {
        "id": "BMukAzWjqypw"
      },
      "execution_count": 25,
      "outputs": []
    },
    {
      "cell_type": "code",
      "source": [
        "features = ['EaseOfOnlineBooking', 'InflightWifiService', 'FoodAndDrink', 'SeatComfort', 'InflightEntertainment', 'BaggageHandling', \n",
        "            'InflightService', 'DepartureDelayInMinutes', 'ArrivalDelayInMinutes']\n",
        "\n",
        "X = df[features]\n",
        "y = df['satisfaction']\n"
      ],
      "metadata": {
        "id": "2wq27xyZgFWm"
      },
      "execution_count": 30,
      "outputs": []
    },
    {
      "cell_type": "code",
      "source": [
        "X_train, X_test, y_train, y_test = train_test_split(X, y, test_size=0.3, random_state=42)"
      ],
      "metadata": {
        "id": "mfWzhhVDggA5"
      },
      "execution_count": 27,
      "outputs": []
    },
    {
      "cell_type": "code",
      "source": [
        "scaler = StandardScaler()\n",
        "scaled_X_train = scaler.fit_transform(X_train)\n",
        "scaled_X_test = scaler.transform(X_test)"
      ],
      "metadata": {
        "id": "efUlu2zdxkd5"
      },
      "execution_count": 54,
      "outputs": []
    },
    {
      "cell_type": "code",
      "source": [
        "dtree = DecisionTreeClassifier()\n",
        "dtree = dtree.fit(scaled_X_train,y_train)\n",
        "data = tree.export_graphviz(dtree, out_file=None, feature_names=features)\n",
        "graph = pydotplus.graph_from_dot_data(data)\n",
        "graph.write_png('mydecisiontree.png')\n",
        "\n",
        "img=pltimg.imread('mydecisiontree.png')\n",
        "imgplot = plt.imshow(img)\n",
        "plt.show()"
      ],
      "metadata": {
        "id": "Z9isB6angh9A"
      },
      "execution_count": null,
      "outputs": []
    },
    {
      "cell_type": "code",
      "source": [
        "print(data)"
      ],
      "metadata": {
        "id": "yZ-xBa4TgodH"
      },
      "execution_count": null,
      "outputs": []
    },
    {
      "cell_type": "code",
      "source": [
        "y_pred = dtree.predict(scaled_X_test)"
      ],
      "metadata": {
        "id": "7LdjlwezgqMo"
      },
      "execution_count": 58,
      "outputs": []
    },
    {
      "cell_type": "code",
      "source": [
        "print(\"Accuracy:\",metrics.accuracy_score(y_test, y_pred))"
      ],
      "metadata": {
        "colab": {
          "base_uri": "https://localhost:8080/"
        },
        "id": "Uz_NVF00kfWC",
        "outputId": "6891429d-faf2-4564-ca9b-fd0b14e262df"
      },
      "execution_count": 59,
      "outputs": [
        {
          "output_type": "stream",
          "name": "stdout",
          "text": [
            "Accuracy: 0.8104946524064172\n"
          ]
        }
      ]
    },
    {
      "cell_type": "code",
      "source": [
        "print(confusion_matrix(y_test, y_pred))"
      ],
      "metadata": {
        "colab": {
          "base_uri": "https://localhost:8080/"
        },
        "id": "tbiYVq4Zguax",
        "outputId": "d5c63771-c644-49c9-d308-c0beaae265a8"
      },
      "execution_count": 60,
      "outputs": [
        {
          "output_type": "stream",
          "name": "stdout",
          "text": [
            "[[1452  275]\n",
            " [ 292  973]]\n"
          ]
        }
      ]
    },
    {
      "cell_type": "code",
      "source": [
        "print(classification_report(y_test, y_pred))"
      ],
      "metadata": {
        "colab": {
          "base_uri": "https://localhost:8080/"
        },
        "id": "6R-WQlldgwBO",
        "outputId": "dfaca5f1-2f00-4e41-c2e5-3f009399f5b4"
      },
      "execution_count": 61,
      "outputs": [
        {
          "output_type": "stream",
          "name": "stdout",
          "text": [
            "                         precision    recall  f1-score   support\n",
            "\n",
            "neutral or dissatisfied       0.83      0.84      0.84      1727\n",
            "              satisfied       0.78      0.77      0.77      1265\n",
            "\n",
            "               accuracy                           0.81      2992\n",
            "              macro avg       0.81      0.80      0.81      2992\n",
            "           weighted avg       0.81      0.81      0.81      2992\n",
            "\n"
          ]
        }
      ]
    },
    {
      "cell_type": "markdown",
      "source": [
        "hyperparameter tuning decision tree"
      ],
      "metadata": {
        "id": "Gv6Np5UPqFkM"
      }
    },
    {
      "cell_type": "code",
      "source": [
        "scaler = StandardScaler()\n",
        "pca = decomposition.PCA()\n",
        "dtree2 = tree.DecisionTreeClassifier()"
      ],
      "metadata": {
        "id": "WFXkyYhqh3G5"
      },
      "execution_count": 11,
      "outputs": []
    },
    {
      "cell_type": "code",
      "source": [
        "scaler = StandardScaler()\n",
        "scaled_X_train = scaler.fit_transform(X_train)\n",
        "scaled_X_test = scaler.transform(X_test)"
      ],
      "metadata": {
        "id": "tb768nbztM9f"
      },
      "execution_count": 32,
      "outputs": []
    },
    {
      "cell_type": "code",
      "source": [
        "# Create pipeline to pass multuple parameters to gridsearch\n",
        "\n",
        "pipe = Pipeline(steps=[('scaler', scaler),\n",
        "                           ('pca', pca),\n",
        "                           ('dec_tree', dtree2)])"
      ],
      "metadata": {
        "id": "_7fy6aG7iON7"
      },
      "execution_count": 34,
      "outputs": []
    },
    {
      "cell_type": "code",
      "source": [
        "# PCA reduces the dimension of features\n",
        "n_components = list(range(1,X.shape[1]+1,1))"
      ],
      "metadata": {
        "id": "ztzKfGReiPll"
      },
      "execution_count": 35,
      "outputs": []
    },
    {
      "cell_type": "code",
      "source": [
        "criterion = ['gini', 'entropy']\n",
        "max_depth = [2,4,6,8,10,12]"
      ],
      "metadata": {
        "id": "rn5S5FOfiQx0"
      },
      "execution_count": 36,
      "outputs": []
    },
    {
      "cell_type": "code",
      "source": [
        "parameters = dict(pca__n_components=n_components,\n",
        "                      dec_tree__criterion=criterion,\n",
        "                      dec_tree__max_depth=max_depth)"
      ],
      "metadata": {
        "id": "XJeN4NC4iSOi"
      },
      "execution_count": 37,
      "outputs": []
    },
    {
      "cell_type": "code",
      "source": [
        "clf_GS = GridSearchCV(pipe, parameters)\n",
        "clf_GS.fit(X, y)"
      ],
      "metadata": {
        "colab": {
          "base_uri": "https://localhost:8080/"
        },
        "id": "cPXAKplPiTPt",
        "outputId": "5e573699-9596-40df-ad37-326cad901b6e"
      },
      "execution_count": 38,
      "outputs": [
        {
          "output_type": "execute_result",
          "data": {
            "text/plain": [
              "GridSearchCV(estimator=Pipeline(steps=[('scaler', StandardScaler()),\n",
              "                                       ('pca', PCA()),\n",
              "                                       ('dec_tree', DecisionTreeClassifier())]),\n",
              "             param_grid={'dec_tree__criterion': ['gini', 'entropy'],\n",
              "                         'dec_tree__max_depth': [2, 4, 6, 8, 10, 12],\n",
              "                         'pca__n_components': [1, 2, 3, 4, 5, 6, 7, 8, 9]})"
            ]
          },
          "metadata": {},
          "execution_count": 38
        }
      ]
    },
    {
      "cell_type": "code",
      "source": [
        "print('Best Criterion:', clf_GS.best_estimator_.get_params()['dec_tree__criterion'])\n",
        "print('Best max_depth:', clf_GS.best_estimator_.get_params()['dec_tree__max_depth'])\n",
        "print('Best Number Of Components:', clf_GS.best_estimator_.get_params()['pca__n_components'])\n",
        "print(); print(clf_GS.best_estimator_.get_params()['dec_tree'])"
      ],
      "metadata": {
        "colab": {
          "base_uri": "https://localhost:8080/"
        },
        "id": "DkbqVP4PiZYE",
        "outputId": "faa31eaa-edf0-4295-b4a4-19ebd7466822"
      },
      "execution_count": 39,
      "outputs": [
        {
          "output_type": "stream",
          "name": "stdout",
          "text": [
            "Best Criterion: gini\n",
            "Best max_depth: 10\n",
            "Best Number Of Components: 8\n",
            "\n",
            "DecisionTreeClassifier(max_depth=10)\n"
          ]
        }
      ]
    },
    {
      "cell_type": "code",
      "source": [
        "dtree = DecisionTreeClassifier(random_state=0, max_depth= 5)\n",
        "dtree = DecisionTreeClassifier(random_state=0, max_depth= 15)\n",
        "dtree = DecisionTreeClassifier(random_state=0,min_samples_leaf= 200)\n",
        "dtree = DecisionTreeClassifier(random_state=0,min_samples_leaf= 425)"
      ],
      "metadata": {
        "id": "wG2zIifsuYbG"
      },
      "execution_count": 41,
      "outputs": []
    },
    {
      "cell_type": "code",
      "source": [
        "print(\"Accuracy:\",metrics.accuracy_score(y_test, y_pred))"
      ],
      "metadata": {
        "colab": {
          "base_uri": "https://localhost:8080/"
        },
        "id": "X5YTPu2ckguk",
        "outputId": "ae44e5ff-aa14-4e79-fb73-d04e69273a7c"
      },
      "execution_count": 42,
      "outputs": [
        {
          "output_type": "stream",
          "name": "stdout",
          "text": [
            "Accuracy: 0.8111631016042781\n"
          ]
        }
      ]
    }
  ]
}